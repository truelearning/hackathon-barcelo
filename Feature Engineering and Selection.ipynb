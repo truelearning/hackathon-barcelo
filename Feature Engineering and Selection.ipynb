{
 "cells": [
  {
   "cell_type": "markdown",
   "metadata": {},
   "source": [
    "# Feature engineering & selection"
   ]
  },
  {
   "cell_type": "code",
   "execution_count": null,
   "metadata": {},
   "outputs": [],
   "source": [
    "import pandas as pd\n",
    "\n",
    "TRAINING_SET_FILE = 'data/training_set.csv'\n",
    "\n",
    "df = pd.read_csv(TRAINING_SET_FILE, sep=';')\n",
    "df.T"
   ]
  },
  {
   "cell_type": "code",
   "execution_count": null,
   "metadata": {},
   "outputs": [],
   "source": [
    "%matplotlib inline\n",
    "\n",
    "# convertimos a datetimes\n",
    "date_columns = ['fecha_reserva', 'check-in', 'check-out']\n",
    "for d in date_columns:\n",
    "    df[d] = pd.to_datetime(df[d])\n",
    "\n",
    "df['reservation_days_ago'] = (df['check-in'] - df['fecha_reserva']).dt.days\n",
    "df['total_noches'] = (df['check-out'] - df['check-in']).dt.days\n",
    "df['precio_por_noche'] = df['importe_reserva'] / df['roomnigths']\n",
    "\n",
    "groupby_country = df.groupby(by='pais_cliente')['is_reserva_cancelada']\n",
    "mean_country_cancelations = groupby_country.sum() / groupby_country.count()\n",
    "\n",
    "mean_country_cancelations = pd.DataFrame(mean_country_cancelations)\\\n",
    "    .rename(columns={'is_reserva_cancelada': 'pct_cancelacion_pais'})\n",
    "mean_country_cancelations.reset_index(level=0, inplace=True)\n",
    "\n",
    "df = df.merge(mean_country_cancelations, left_on='pais_cliente', right_on='pais_cliente')"
   ]
  },
  {
   "cell_type": "markdown",
   "metadata": {},
   "source": [
    "#### Porcen Reser vs Cancelacion por pais"
   ]
  },
  {
   "cell_type": "code",
   "execution_count": null,
   "metadata": {},
   "outputs": [],
   "source": [
    "res_por_pais = pd.pivot_table(df,index=[\"pais_cliente\"],values=[\"index\"], aggfunc=lambda x: len(x.unique()))\n",
    "can_por_pais = pd.pivot_table(df,index=[\"pais_cliente\"],values=[\"is_reserva_cancelada\"], aggfunc=sum)\n",
    "result = pd.concat([res_por_pais, can_por_pais], axis=1, join='inner',join_axes=[res_por_pais.index])\n",
    "result[\"%\"] = result[\"is_reserva_cancelada\"]*100/result[\"index\"]\n",
    "result.sort_values(\"%\", ascending=False)"
   ]
  },
  {
   "cell_type": "markdown",
   "metadata": {},
   "source": [
    "# Feature selection\n",
    "\n",
    "De todas las características que hemos construido, vamos a evaluar como funcionan."
   ]
  },
  {
   "cell_type": "code",
   "execution_count": null,
   "metadata": {},
   "outputs": [],
   "source": []
  }
 ],
 "metadata": {
  "kernelspec": {
   "display_name": "Python 3",
   "language": "python",
   "name": "python3"
  },
  "language_info": {
   "codemirror_mode": {
    "name": "ipython",
    "version": 3
   },
   "file_extension": ".py",
   "mimetype": "text/x-python",
   "name": "python",
   "nbconvert_exporter": "python",
   "pygments_lexer": "ipython3",
   "version": "3.5.2"
  }
 },
 "nbformat": 4,
 "nbformat_minor": 2
}

{
 "cells": [
  {
   "cell_type": "code",
   "execution_count": null,
   "metadata": {
    "collapsed": true
   },
   "outputs": [],
   "source": [
    "import pandas as pd\n",
    "TRAINING_SET_FILE = 'data/training_set.csv'\n",
    "\n",
    "df = pd.read_csv(TRAINING_SET_FILE, sep=';')\n",
    "df.T"
   ]
  },
  {
   "cell_type": "code",
   "execution_count": null,
   "metadata": {
    "collapsed": true
   },
   "outputs": [],
   "source": [
    "mean_country_cancelations = df.groupby(by='pais_cliente')['is_reserva_cancelada'].sum() / df.groupby(by='pais_cliente')['is_reserva_cancelada'].count()\n",
    "\n",
    "mean_country_cancelations = pd.DataFrame(mean_country_cancelations).rename(columns={'is_reserva_cancelada': 'pct_cancelacion_pais'})\n",
    "mean_country_cancelations.reset_index(level=0, inplace=True)\n",
    "\n",
    "pct_cancelacion_num_habit = df.groupby('total_habitaciones')['is_reserva_cancelada'].sum() / df.groupby('total_habitaciones')['index'].count()\n",
    "pct_cancelacion_num_habit = pct_cancelacion_num_habit.reset_index().rename(columns={0: 'pct_cancelacion_num_habit'})\n",
    "\n",
    "def create_extra_features(df):\n",
    "    # convertimos a datetimes\n",
    "    date_columns = ['fecha_reserva', 'check-in', 'check-out']\n",
    "    for d in date_columns:\n",
    "        df[d] = pd.to_datetime(df[d])\n",
    "\n",
    "    df['reservation_days_ago'] = (df['check-in'] - df['fecha_reserva']).dt.days\n",
    "    df['total_noches'] = (df['check-out'] - df['check-in']).dt.days\n",
    "    df['precio_por_noche'] = df['importe_reserva'] / df['roomnigths']\n",
    "        \n",
    "    df['fecha_reserva_weekday'] = df.fecha_reserva.dt.weekday\n",
    "    df['fecha_reserva_day'] = df.fecha_reserva.dt.day\n",
    "\n",
    "    df['checkin_weekday'] = df['check-in'].dt.weekday\n",
    "    df['checkin_month'] = df['check-in'].dt.month\n",
    "    df['checkin_day'] = df['check-in'].dt.day\n",
    "\n",
    "    df['checkout_weekday'] = df['check-out'].dt.weekday\n",
    "    df['checkout_month'] = df['check-out'].dt.month\n",
    "    df['checkout_day'] = df['check-in'].dt.day\n",
    "\n",
    "    df = df.merge(mean_country_cancelations, left_on='pais_cliente', right_on='pais_cliente', how='left').fillna(0.0)    \n",
    "    df = df.merge(pct_cancelacion_num_habit, left_on='total_habitaciones', right_on='total_habitaciones', how='left').fillna(0.0)\n",
    "    \n",
    "    return df\n",
    "\n",
    "df = create_extra_features(df)"
   ]
  },
  {
   "cell_type": "code",
   "execution_count": null,
   "metadata": {
    "collapsed": true
   },
   "outputs": [],
   "source": [
    "def remove_non_usefull_features(df):\n",
    "    df_cont = df\n",
    "\n",
    "    # remove categorical variables after extracting other vars\n",
    "    for categorical_column in ['pais_cliente', 'hotel', 'localizador', 'nombre_cliente', 'telefono_cliente', 'email_cliente']:\n",
    "        df_cont = df_cont.drop(categorical_column, 1)\n",
    "\n",
    "    for date_column in ['fecha_reserva', 'check-in', 'check-out']:\n",
    "        df_cont = df_cont.drop(date_column, 1)\n",
    "    return df_cont\n",
    "        \n",
    "df_cont = remove_non_usefull_features(df)"
   ]
  },
  {
   "cell_type": "code",
   "execution_count": null,
   "metadata": {
    "collapsed": true
   },
   "outputs": [],
   "source": [
    "from keras.models import Sequential\n",
    "from keras.layers import Dense, Activation\n",
    "import numpy\n",
    "# fix random seed for reproducibility\n",
    "numpy.random.seed(7)\n",
    "y = numpy.array(df_cont['is_reserva_cancelada'])\n",
    "X = numpy.array(df_cont.drop(['is_reserva_cancelada', \"index\"], axis=1))"
   ]
  },
  {
   "cell_type": "code",
   "execution_count": null,
   "metadata": {
    "collapsed": true
   },
   "outputs": [],
   "source": [
    "# create model\n",
    "model = Sequential()\n",
    "model.add(Dense(16, input_dim=16))\n",
    "model.add(Dense(128))\n",
    "model.add(Dense(256))\n",
    "model.add(Dense(512))\n",
    "model.add(Dense(1024))\n",
    "model.add(Dense(512))\n",
    "model.add(Dense(256))\n",
    "model.add(Dense(128))\n",
    "model.add(Dense(1, activation='sigmoid'))\n",
    "\n",
    "model.summary()"
   ]
  },
  {
   "cell_type": "code",
   "execution_count": null,
   "metadata": {
    "collapsed": true
   },
   "outputs": [],
   "source": [
    "# Compile model\n",
    "model.compile(loss='binary_crossentropy', optimizer='sgd', metrics=['accuracy'])\n",
    "model.summary()"
   ]
  },
  {
   "cell_type": "code",
   "execution_count": null,
   "metadata": {
    "collapsed": true,
    "scrolled": true
   },
   "outputs": [],
   "source": [
    "# Fit the model\n",
    "model.fit(X, y, epochs=1000, batch_size=32)"
   ]
  },
  {
   "cell_type": "code",
   "execution_count": null,
   "metadata": {
    "collapsed": true
   },
   "outputs": [],
   "source": [
    "# evaluate the model\n",
    "scores = model.evaluate(X, y)\n",
    "print(\"\\n%s: %.2f%%\" % (model.metrics_names[1], scores[1]*100))"
   ]
  }
 ],
 "metadata": {
  "kernelspec": {
   "display_name": "Python 3",
   "language": "python",
   "name": "python3"
  },
  "language_info": {
   "codemirror_mode": {
    "name": "ipython",
    "version": 3
   },
   "file_extension": ".py",
   "mimetype": "text/x-python",
   "name": "python",
   "nbconvert_exporter": "python",
   "pygments_lexer": "ipython3",
   "version": "3.5.1"
  }
 },
 "nbformat": 4,
 "nbformat_minor": 2
}

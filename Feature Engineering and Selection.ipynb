{
 "cells": [
  {
   "cell_type": "markdown",
   "metadata": {},
   "source": [
    "# Feature engineering & selection"
   ]
  },
  {
   "cell_type": "code",
   "execution_count": null,
   "metadata": {},
   "outputs": [],
   "source": [
    "import pandas as pd\n",
    "TRAINING_SET_FILE = 'data/training_set.csv'\n",
    "\n",
    "df = pd.read_csv(TRAINING_SET_FILE, sep=';')\n",
    "df.T\n"
   ]
  },
  {
   "cell_type": "code",
   "execution_count": null,
   "metadata": {},
   "outputs": [],
   "source": [
    "\n",
    "groupby_country = df.groupby(by='pais_cliente')['is_reserva_cancelada']\n",
    "mean_country_cancelations = groupby_country.sum() / groupby_country.count()\n",
    "\n",
    "mean_country_cancelations = pd.DataFrame(mean_country_cancelations)\\\n",
    "    .rename(columns={'is_reserva_cancelada': 'pct_cancelacion_pais'})\n",
    "mean_country_cancelations.reset_index(level=0, inplace=True)\n",
    "\n",
    "\n",
    "def create_extra_features(df):\n",
    "    # convertimos a datetimes\n",
    "    date_columns = ['fecha_reserva', 'check-in', 'check-out']\n",
    "    for d in date_columns:\n",
    "        df[d] = pd.to_datetime(df[d])\n",
    "\n",
    "    df['reservation_days_ago'] = (df['check-in'] - df['fecha_reserva']).dt.days\n",
    "    df['total_noches'] = (df['check-out'] - df['check-in']).dt.days\n",
    "    df['precio_por_noche'] = df['importe_reserva'] / df['roomnigths']\n",
    "\n",
    "    df = df.merge(mean_country_cancelations, left_on='pais_cliente', right_on='pais_cliente')\n",
    "    return df\n",
    "\n",
    "\n",
    "df = create_extra_features(df)\n",
    "df['fecha_reserva_weekday'] = df.fecha_reserva.dt.weekday\n",
    "df['fecha_reserva_day'] = df.fecha_reserva.dt.day\n",
    "\n",
    "df['checkin_weekday'] = df['check-in'].dt.weekday\n",
    "df['checkin_month'] = df['check-in'].dt.month\n",
    "df['checkin_day'] = df['check-in'].dt.day\n",
    "\n",
    "df['checkout_weekday'] = df['check-out'].dt.weekday\n",
    "df['checkout_month'] = df['check-out'].dt.month\n",
    "df['checkout_day'] = df['check-in'].dt.day\n",
    "\n",
    "\n",
    "\n",
    "ori = df"
   ]
  },
  {
   "cell_type": "code",
   "execution_count": null,
   "metadata": {},
   "outputs": [],
   "source": [
    "def remove_non_usefull_features(df):\n",
    "    df_cont = df\n",
    "\n",
    "    # remove categorical variables after extracting other vars\n",
    "    for categorical_column in ['pais_cliente', 'hotel', 'localizador', 'nombre_cliente', 'telefono_cliente', 'email_cliente']:\n",
    "        df_cont = df_cont.drop(categorical_column, 1)\n",
    "\n",
    "    # TODO convertir fechas en timestamps\n",
    "    for date_column in ['fecha_reserva', 'check-in', 'check-out']:\n",
    "        df_cont = df_cont.drop(date_column, 1)\n",
    "    return df_cont\n",
    "        \n",
    "df_cont = remove_non_usefull_features(df)"
   ]
  },
  {
   "cell_type": "markdown",
   "metadata": {},
   "source": [
    "#### Porcen Reser vs Cancelacion por pais"
   ]
  },
  {
   "cell_type": "code",
   "execution_count": null,
   "metadata": {},
   "outputs": [],
   "source": [
    "res_por_pais = pd.pivot_table(ori,index=[\"pais_cliente\"],values=[\"index\"], aggfunc=lambda x: len(x.unique()))\n",
    "can_por_pais = pd.pivot_table(ori,index=[\"pais_cliente\"],values=[\"is_reserva_cancelada\"], aggfunc=sum)\n",
    "result = pd.concat([res_por_pais, can_por_pais], axis=1, join='inner',join_axes=[res_por_pais.index])\n",
    "result[\"%\"] = result[\"is_reserva_cancelada\"]*100/result[\"index\"]\n",
    "result = result.sort_values(\"%\", ascending=False)"
   ]
  },
  {
   "cell_type": "code",
   "execution_count": null,
   "metadata": {
    "scrolled": false
   },
   "outputs": [],
   "source": [
    "res_por_fecha_reserva = pd.pivot_table(ori,index=[\"fecha_reserva\"], values=[\"index\"], aggfunc=lambda x: len(x.unique()))\n",
    "can_por_fecha_reserva = pd.pivot_table(ori,index=[\"fecha_reserva\"],values=[\"is_reserva_cancelada\"], aggfunc=sum)\n",
    "result_fecha_reserva = pd.concat([res_por_fecha_reserva, can_por_fecha_reserva], axis=1, join='inner',join_axes=[res_por_fecha_reserva.index])\n",
    "result_fecha_reserva[\"%\"] = result_fecha_reserva[\"is_reserva_cancelada\"]*100/result_fecha_reserva[\"index\"]\n",
    "result_fecha_reserva.sort_values(\"%\", ascending=False)"
   ]
  },
  {
   "cell_type": "markdown",
   "metadata": {},
   "source": [
    "# Feature selection\n",
    "\n",
    "De todas las características que hemos construido, vamos a evaluar como funcionan."
   ]
  },
  {
   "cell_type": "markdown",
   "metadata": {},
   "source": [
    "## Date extractions"
   ]
  },
  {
   "cell_type": "code",
   "execution_count": null,
   "metadata": {},
   "outputs": [],
   "source": [
    "\n"
   ]
  },
  {
   "cell_type": "code",
   "execution_count": null,
   "metadata": {},
   "outputs": [],
   "source": [
    "pd.get_dummies(df.fecha_reserva)"
   ]
  },
  {
   "cell_type": "code",
   "execution_count": null,
   "metadata": {},
   "outputs": [],
   "source": [
    "import numpy as np\n",
    "import matplotlib.pyplot as plt\n",
    "\n",
    "from sklearn.ensemble import RandomForestClassifier\n",
    "\n",
    "from sklearn.model_selection import train_test_split\n",
    "from sklearn.feature_selection import SelectFromModel\n",
    "\n",
    "y_train = df_cont['is_reserva_cancelada']\n",
    "X_train = df_cont.drop('is_reserva_cancelada', axis=1)\n",
    "\n",
    "\n",
    "forest = RandomForestClassifier(n_estimators=1000, random_state=0, n_jobs=-1)\n",
    "\n",
    "\n",
    "forest.fit(X_train, y_train)\n",
    "importances = forest.feature_importances_\n",
    "std = np.std([tree.feature_importances_ for tree in forest.estimators_],\n",
    "             axis=0)\n",
    "print(importances)\n",
    "print(sorted(zip(importances, X_train.columns), key=lambda x: x[0]))\n",
    "indices = np.argsort(importances)[::-1]\n",
    "\n",
    "# Print the feature ranking\n",
    "print(\"Feature ranking:\")\n",
    "\n",
    "for f in range(X_train.shape[1]):\n",
    "    print(\"%d. feature %d (%f)\" % (f + 1, indices[f], importances[indices[f]]))\n",
    "\n",
    "# Plot the feature importances of the forest\n",
    "plt.figure()\n",
    "plt.title(\"Feature importances\")\n",
    "plt.bar(range(X_train.shape[1]), importances[indices],\n",
    "       color=\"r\", yerr=std[indices], align=\"center\")\n",
    "plt.xticks(range(X_train.shape[1]), indices)\n",
    "plt.xlim([-1, X_train.shape[1]])\n",
    "plt.show()"
   ]
  },
  {
   "cell_type": "markdown",
   "metadata": {},
   "source": [
    "# Construct classifier"
   ]
  },
  {
   "cell_type": "code",
   "execution_count": null,
   "metadata": {},
   "outputs": [],
   "source": [
    "import numpy as np\n",
    "from scipy import interp\n",
    "import matplotlib.pyplot as plt\n",
    "from itertools import cycle\n",
    "\n",
    "from sklearn import svm, datasets\n",
    "from sklearn.metrics import roc_curve, auc\n",
    "from sklearn.model_selection import StratifiedKFold\n",
    "from xgboost import XGBClassifier\n",
    "\n",
    "# #############################################################################\n",
    "# Data IO and generation\n",
    "\n",
    "# Import some data to play with\n",
    "X = X_train\n",
    "y = y_train\n",
    "n_samples, n_features = X.shape\n",
    "\n",
    "# Add noisy features\n",
    "random_state = np.random.RandomState(0)\n",
    "X = np.c_[X, random_state.randn(n_samples, 200 * n_features)]\n",
    "\n",
    "# #############################################################################\n",
    "# Classification and ROC analysis\n",
    "\n",
    "# Run classifier with cross-validation and plot ROC curves\n",
    "cv = StratifiedKFold(n_splits=3)\n",
    "classifier = XGBClassifier()\n",
    "\n",
    "tprs = []\n",
    "aucs = []\n",
    "mean_fpr = np.linspace(0, 1, 100)\n",
    "\n",
    "i = 0\n",
    "for train, test in cv.split(X, y):\n",
    "    probas_ = classifier.fit(X[train], y[train]).predict_proba(X[test])\n",
    "    # Compute ROC curve and area the curve\n",
    "    fpr, tpr, thresholds = roc_curve(y[test], probas_[:, 1])\n",
    "    tprs.append(interp(mean_fpr, fpr, tpr))\n",
    "    tprs[-1][0] = 0.0\n",
    "    roc_auc = auc(fpr, tpr)\n",
    "    aucs.append(roc_auc)\n",
    "    plt.plot(fpr, tpr, lw=1, alpha=0.3,\n",
    "             label='ROC fold %d (AUC = %0.2f)' % (i, roc_auc))\n",
    "\n",
    "    i += 1\n",
    "plt.plot([0, 1], [0, 1], linestyle='--', lw=2, color='r',\n",
    "         label='Luck', alpha=.8)\n",
    "\n",
    "mean_tpr = np.mean(tprs, axis=0)\n",
    "mean_tpr[-1] = 1.0\n",
    "mean_auc = auc(mean_fpr, mean_tpr)\n",
    "std_auc = np.std(aucs)\n",
    "plt.plot(mean_fpr, mean_tpr, color='b',\n",
    "         label=r'Mean ROC (AUC = %0.2f $\\pm$ %0.2f)' % (mean_auc, std_auc),\n",
    "         lw=2, alpha=.8)\n",
    "\n",
    "std_tpr = np.std(tprs, axis=0)\n",
    "tprs_upper = np.minimum(mean_tpr + std_tpr, 1)\n",
    "tprs_lower = np.maximum(mean_tpr - std_tpr, 0)\n",
    "plt.fill_between(mean_fpr, tprs_lower, tprs_upper, color='grey', alpha=.2,\n",
    "                 label=r'$\\pm$ 1 std. dev.')\n",
    "\n",
    "plt.xlim([-0.05, 1.05])\n",
    "plt.ylim([-0.05, 1.05])\n",
    "plt.xlabel('False Positive Rate')\n",
    "plt.ylabel('True Positive Rate')\n",
    "plt.title('Receiver operating characteristic example')\n",
    "plt.legend(loc=\"lower right\")\n",
    "plt.show()"
   ]
  },
  {
   "cell_type": "code",
   "execution_count": null,
   "metadata": {},
   "outputs": [],
   "source": [
    "from xgboost import XGBClassifier\n",
    "\n",
    "clf = XGBClassifier()\n",
    "clf.fit(X_train, y_train)\n",
    "\n",
    "X_test = pd.read_csv('data/test_set.csv', sep=';')\n",
    "X_test = create_extra_features(X_test)\n",
    "X_test = remove_non_usefull_features(X_test)\n",
    "#y_test = df_test['is_reserva_cancelada']\n",
    "#X_test = df_test.drop('is_reserva_cancelada', axis=1)\n",
    "\n",
    "clf.fit(X_train, y_train)\n",
    "\n",
    "y_test_prob = clf.predict_proba(X_test)\n",
    "y_test = clf.predict(X_test)\n",
    "\n",
    "y_pred = list(map(lambda x:x[1], y_test_prob))\n",
    "\n",
    "X_test['probabilidad'] = y_pred\n",
    "X_test[['index', 'probabilidad']].to_csv('results.csv', index=False, sep=',')\n",
    "\n",
    "X_test.describe().T"
   ]
  },
  {
   "cell_type": "code",
   "execution_count": null,
   "metadata": {},
   "outputs": [],
   "source": []
  }
 ],
 "metadata": {
  "kernelspec": {
   "display_name": "Python 3",
   "language": "python",
   "name": "python3"
  },
  "language_info": {
   "codemirror_mode": {
    "name": "ipython",
    "version": 3
   },
   "file_extension": ".py",
   "mimetype": "text/x-python",
   "name": "python",
   "nbconvert_exporter": "python",
   "pygments_lexer": "ipython3",
   "version": "3.5.2"
  }
 },
 "nbformat": 4,
 "nbformat_minor": 2
}

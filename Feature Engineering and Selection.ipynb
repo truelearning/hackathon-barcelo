{
 "cells": [
  {
   "cell_type": "markdown",
   "metadata": {},
   "source": [
    "# Feature engineering & selection"
   ]
  },
  {
   "cell_type": "code",
   "execution_count": null,
   "metadata": {},
   "outputs": [],
   "source": [
    "import pandas as pd\n",
    "TRAINING_SET_FILE = 'data/training_set.csv'\n",
    "\n",
    "df = pd.read_csv(TRAINING_SET_FILE, sep=';')\n",
    "df.T\n"
   ]
  },
  {
   "cell_type": "code",
   "execution_count": null,
   "metadata": {},
   "outputs": [],
   "source": [
    "\n",
    "groupby_country = df.groupby(by='pais_cliente')['is_reserva_cancelada']\n",
    "mean_country_cancelations = groupby_country.sum() / groupby_country.count()\n",
    "\n",
    "mean_country_cancelations = pd.DataFrame(mean_country_cancelations)\\\n",
    "    .rename(columns={'is_reserva_cancelada': 'pct_cancelacion_pais'})\n",
    "mean_country_cancelations.reset_index(level=0, inplace=True)\n",
    "\n",
    "\n",
    "def create_extra_features(df):\n",
    "    # convertimos a datetimes\n",
    "    date_columns = ['fecha_reserva', 'check-in', 'check-out']\n",
    "    for d in date_columns:\n",
    "        df[d] = pd.to_datetime(df[d])\n",
    "\n",
    "    df['reservation_days_ago'] = (df['check-in'] - df['fecha_reserva']).dt.days\n",
    "    df['total_noches'] = (df['check-out'] - df['check-in']).dt.days\n",
    "    df['precio_por_noche'] = df['importe_reserva'] / df['roomnigths']\n",
    "        \n",
    "    df['fecha_reserva_weekday'] = df.fecha_reserva.dt.weekday\n",
    "    df['fecha_reserva_day'] = df.fecha_reserva.dt.day\n",
    "\n",
    "    df['checkin_weekday'] = df['check-in'].dt.weekday\n",
    "    df['checkin_month'] = df['check-in'].dt.month\n",
    "    df['checkin_day'] = df['check-in'].dt.day\n",
    "\n",
    "    df['checkout_weekday'] = df['check-out'].dt.weekday\n",
    "    df['checkout_month'] = df['check-out'].dt.month\n",
    "    df['checkout_day'] = df['check-in'].dt.day\n",
    "\n",
    "    df = df.merge(mean_country_cancelations, left_on='pais_cliente', right_on='pais_cliente', how='left')\n",
    "    return df\n",
    "\n",
    "\n",
    "df = create_extra_features(df)\n",
    "\n",
    "ori = df"
   ]
  },
  {
   "cell_type": "code",
   "execution_count": null,
   "metadata": {},
   "outputs": [],
   "source": [
    "def remove_non_usefull_features(df):\n",
    "    df_cont = df\n",
    "\n",
    "    # remove categorical variables after extracting other vars\n",
    "    for categorical_column in ['pais_cliente', 'hotel', 'localizador', 'nombre_cliente', 'telefono_cliente', 'email_cliente']:\n",
    "        df_cont = df_cont.drop(categorical_column, 1)\n",
    "\n",
    "    # TODO convertir fechas en timestamps\n",
    "    for date_column in ['fecha_reserva', 'check-in', 'check-out']:\n",
    "        df_cont = df_cont.drop(date_column, 1)\n",
    "    return df_cont\n",
    "        \n",
    "df_cont = remove_non_usefull_features(df)"
   ]
  },
  {
   "cell_type": "markdown",
   "metadata": {},
   "source": [
    "#### Porcen Reser vs Cancelacion por pais"
   ]
  },
  {
   "cell_type": "code",
   "execution_count": null,
   "metadata": {},
   "outputs": [],
   "source": [
    "res_por_pais = pd.pivot_table(ori,index=[\"pais_cliente\"],values=[\"index\"], aggfunc=lambda x: len(x.unique()))\n",
    "can_por_pais = pd.pivot_table(ori,index=[\"pais_cliente\"],values=[\"is_reserva_cancelada\"], aggfunc=sum)\n",
    "result = pd.concat([res_por_pais, can_por_pais], axis=1, join='inner',join_axes=[res_por_pais.index])\n",
    "result[\"%\"] = result[\"is_reserva_cancelada\"]*100/result[\"index\"]\n",
    "result = result.sort_values(\"%\", ascending=False)"
   ]
  },
  {
   "cell_type": "code",
   "execution_count": null,
   "metadata": {
    "scrolled": false
   },
   "outputs": [],
   "source": [
    "res_por_fecha_reserva = pd.pivot_table(ori,index=[\"fecha_reserva\"], values=[\"index\"], aggfunc=lambda x: len(x.unique()))\n",
    "can_por_fecha_reserva = pd.pivot_table(ori,index=[\"fecha_reserva\"],values=[\"is_reserva_cancelada\"], aggfunc=sum)\n",
    "result_fecha_reserva = pd.concat([res_por_fecha_reserva, can_por_fecha_reserva], axis=1, join='inner',join_axes=[res_por_fecha_reserva.index])\n",
    "result_fecha_reserva[\"%\"] = result_fecha_reserva[\"is_reserva_cancelada\"]*100/result_fecha_reserva[\"index\"]\n",
    "result_fecha_reserva.sort_values(\"%\", ascending=False)"
   ]
  },
  {
   "cell_type": "markdown",
   "metadata": {},
   "source": [
    "# Feature selection\n",
    "\n",
    "De todas las características que hemos construido, vamos a evaluar como funcionan."
   ]
  },
  {
   "cell_type": "code",
   "execution_count": null,
   "metadata": {},
   "outputs": [],
   "source": [
    "y_train = df_cont['is_reserva_cancelada']\n",
    "X_train = df_cont.drop('is_reserva_cancelada', axis=1)"
   ]
  },
  {
   "cell_type": "markdown",
   "metadata": {},
   "source": [
    "# Construct classifier"
   ]
  },
  {
   "cell_type": "code",
   "execution_count": null,
   "metadata": {},
   "outputs": [],
   "source": [
    "from xgboost import XGBClassifier\n",
    "from sklearn.metrics import auc\n",
    "\n",
    "clf = XGBClassifier()\n",
    "clf.fit(X_train, y_train)\n",
    "\n",
    "X_test = pd.read_csv('data/test_set.csv', sep=';')\n",
    "\n",
    "X_test = create_extra_features(X_test)\n",
    "X_test['pct_cancelacion_pais'] = X_test['pct_cancelacion_pais'].fillna(0.0)\n",
    "X_test = remove_non_usefull_features(X_test)\n",
    "#y_test = df_test['is_reserva_cancelada']\n",
    "#X_test = df_test.drop('is_reserva_cancelada', axis=1)\n",
    "\n",
    "clf.fit(X_train, y_train)\n",
    "\n",
    "y_test_prob = clf.predict_proba(X_test)\n",
    "y_test = clf.predict(X_test)\n",
    "\n",
    "y_pred = list(map(lambda x:x[1], y_test_prob))\n",
    "\n",
    "X_test['probabilidad'] = y_pred\n",
    "X_test[['index', 'probabilidad']].to_csv('tpiza_test.csv', index=False, sep=',')\n"
   ]
  },
  {
   "cell_type": "code",
   "execution_count": null,
   "metadata": {},
   "outputs": [],
   "source": []
  }
 ],
 "metadata": {
  "kernelspec": {
   "display_name": "Python 3",
   "language": "python",
   "name": "python3"
  },
  "language_info": {
   "codemirror_mode": {
    "name": "ipython",
    "version": 3
   },
   "file_extension": ".py",
   "mimetype": "text/x-python",
   "name": "python",
   "nbconvert_exporter": "python",
   "pygments_lexer": "ipython3",
   "version": "3.5.2"
  }
 },
 "nbformat": 4,
 "nbformat_minor": 2
}

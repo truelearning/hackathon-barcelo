{
 "cells": [
  {
   "cell_type": "markdown",
   "metadata": {},
   "source": [
    "# Feature engineering & selection"
   ]
  },
  {
   "cell_type": "code",
   "execution_count": 18,
   "metadata": {},
   "outputs": [],
   "source": [
    "import pandas as pd\n",
    "\n",
    "TRAINING_SET_FILE = 'data/training_set.csv'\n",
    "\n",
    "ori = pd.read_csv(TRAINING_SET_FILE, sep=';')\n",
    "ori.T\n",
    "df = ori"
   ]
  },
  {
   "cell_type": "code",
   "execution_count": 16,
   "metadata": {},
   "outputs": [],
   "source": [
    "\n",
    "# convertimos a datetimes\n",
    "date_columns = ['fecha_reserva', 'check-in', 'check-out']\n",
    "for d in date_columns:\n",
    "    df[d] = pd.to_datetime(df[d])\n",
    "\n",
    "df['reservation_days_ago'] = (df['check-in'] - df['fecha_reserva']).dt.days\n",
    "df['total_noches'] = (df['check-out'] - df['check-in']).dt.days\n",
    "df['precio_por_noche'] = df['importe_reserva'] / df['roomnigths']\n",
    "\n",
    "groupby_country = df.groupby(by='pais_cliente')['is_reserva_cancelada']\n",
    "mean_country_cancelations = groupby_country.sum() / groupby_country.count()\n",
    "\n",
    "mean_country_cancelations = pd.DataFrame(mean_country_cancelations)\\\n",
    "    .rename(columns={'is_reserva_cancelada': 'pct_cancelacion_pais'})\n",
    "mean_country_cancelations.reset_index(level=0, inplace=True)\n",
    "\n",
    "df = df.merge(mean_country_cancelations, left_on='pais_cliente', right_on='pais_cliente')"
   ]
  },
  {
   "cell_type": "markdown",
   "metadata": {},
   "source": [
    "#### Porcen Reser vs Cancelacion por pais"
   ]
  },
  {
   "cell_type": "code",
   "execution_count": 25,
   "metadata": {},
   "outputs": [],
   "source": [
    "res_por_pais = pd.pivot_table(ori,index=[\"pais_cliente\"],values=[\"index\"], aggfunc=lambda x: len(x.unique()))\n",
    "can_por_pais = pd.pivot_table(ori,index=[\"pais_cliente\"],values=[\"is_reserva_cancelada\"], aggfunc=sum)\n",
    "result = pd.concat([res_por_pais, can_por_pais], axis=1, join='inner',join_axes=[res_por_pais.index])\n",
    "result[\"%\"] = result[\"is_reserva_cancelada\"]*100/result[\"index\"]\n",
    "result = result.sort_values(\"%\", ascending=False)"
   ]
  },
  {
   "cell_type": "code",
   "execution_count": null,
   "metadata": {},
   "outputs": [],
   "source": [
    "res_por_fecha_reserva = pd.pivot_table(df,index=[\"fecha_reserva\"],values=[\"index\"], aggfunc=lambda x: len(x.unique()))\n",
    "can_por_fecha_reserva = pd.pivot_table(df,index=[\"fecha_reserva\"],values=[\"is_reserva_cancelada\"], aggfunc=sum)\n",
    "result = pd.concat([res_por_pais, can_por_fecha_reserva], axis=1, join='inner',join_axes=[res_por_pais.index])\n",
    "result[\"%\"] = result[\"is_reserva_cancelada\"]*100/result[\"index\"]\n",
    "result.sort_values(\"%\", ascending=False)"
   ]
  },
  {
   "cell_type": "markdown",
   "metadata": {},
   "source": [
    "# Feature selection\n",
    "\n",
    "De todas las características que hemos construido, vamos a evaluar como funcionan."
   ]
  },
  {
   "cell_type": "markdown",
   "metadata": {},
   "source": [
    "## Date extractions"
   ]
  },
  {
   "cell_type": "code",
   "execution_count": null,
   "metadata": {},
   "outputs": [],
   "source": [
    "df['fecha_reserva_weekday'] = df.fecha_reserva.dt.weekday\n",
    "df['fecha_reserva_day'] = df.fecha_reserva.dt.day\n",
    "\n",
    "df['checkin_weekday'] = df['check-in'].dt.weekday\n",
    "df['checkin_month'] = df['check-in'].dt.month\n",
    "df['checkin_day'] = df['check-in'].dt.day\n",
    "\n",
    "df['checkout_weekday'] = df['check-out'].dt.weekday\n",
    "df['checkout_month'] = df['check-out'].dt.month\n",
    "df['checkout_day'] = df['check-in'].dt.day\n"
   ]
  },
  {
   "cell_type": "code",
   "execution_count": null,
   "metadata": {},
   "outputs": [],
   "source": [
    "pd.get_dummies(df.fecha_reserva)"
   ]
  },
  {
   "cell_type": "code",
   "execution_count": 24,
   "metadata": {},
   "outputs": [
    {
     "data": {
      "text/html": [
       "<div>\n",
       "<style scoped>\n",
       "    .dataframe tbody tr th:only-of-type {\n",
       "        vertical-align: middle;\n",
       "    }\n",
       "\n",
       "    .dataframe tbody tr th {\n",
       "        vertical-align: top;\n",
       "    }\n",
       "\n",
       "    .dataframe thead th {\n",
       "        text-align: right;\n",
       "    }\n",
       "</style>\n",
       "<table border=\"1\" class=\"dataframe\">\n",
       "  <thead>\n",
       "    <tr style=\"text-align: right;\">\n",
       "      <th></th>\n",
       "      <th>index</th>\n",
       "      <th>is_reserva_cancelada</th>\n",
       "      <th>%</th>\n",
       "    </tr>\n",
       "    <tr>\n",
       "      <th>fecha_reserva</th>\n",
       "      <th></th>\n",
       "      <th></th>\n",
       "      <th></th>\n",
       "    </tr>\n",
       "  </thead>\n",
       "  <tbody>\n",
       "    <tr>\n",
       "      <th>2017-06-04</th>\n",
       "      <td>2394</td>\n",
       "      <td>813</td>\n",
       "      <td>33.959900</td>\n",
       "    </tr>\n",
       "    <tr>\n",
       "      <th>2017-06-05</th>\n",
       "      <td>3762</td>\n",
       "      <td>1198</td>\n",
       "      <td>31.844763</td>\n",
       "    </tr>\n",
       "    <tr>\n",
       "      <th>2017-06-01</th>\n",
       "      <td>3505</td>\n",
       "      <td>1115</td>\n",
       "      <td>31.811698</td>\n",
       "    </tr>\n",
       "    <tr>\n",
       "      <th>2017-06-03</th>\n",
       "      <td>2419</td>\n",
       "      <td>754</td>\n",
       "      <td>31.169905</td>\n",
       "    </tr>\n",
       "    <tr>\n",
       "      <th>2017-06-08</th>\n",
       "      <td>3843</td>\n",
       "      <td>1174</td>\n",
       "      <td>30.549050</td>\n",
       "    </tr>\n",
       "    <tr>\n",
       "      <th>2017-06-02</th>\n",
       "      <td>3497</td>\n",
       "      <td>1062</td>\n",
       "      <td>30.368888</td>\n",
       "    </tr>\n",
       "    <tr>\n",
       "      <th>2017-06-06</th>\n",
       "      <td>4038</td>\n",
       "      <td>1212</td>\n",
       "      <td>30.014859</td>\n",
       "    </tr>\n",
       "    <tr>\n",
       "      <th>2017-06-07</th>\n",
       "      <td>3910</td>\n",
       "      <td>1172</td>\n",
       "      <td>29.974425</td>\n",
       "    </tr>\n",
       "  </tbody>\n",
       "</table>\n",
       "</div>"
      ],
      "text/plain": [
       "               index  is_reserva_cancelada          %\n",
       "fecha_reserva                                        \n",
       "2017-06-04      2394                   813  33.959900\n",
       "2017-06-05      3762                  1198  31.844763\n",
       "2017-06-01      3505                  1115  31.811698\n",
       "2017-06-03      2419                   754  31.169905\n",
       "2017-06-08      3843                  1174  30.549050\n",
       "2017-06-02      3497                  1062  30.368888\n",
       "2017-06-06      4038                  1212  30.014859\n",
       "2017-06-07      3910                  1172  29.974425"
      ]
     },
     "execution_count": 24,
     "metadata": {},
     "output_type": "execute_result"
    }
   ],
   "source": []
  },
  {
   "cell_type": "code",
   "execution_count": 21,
   "metadata": {},
   "outputs": [
    {
     "name": "stdout",
     "output_type": "stream",
     "text": [
      "<class 'pandas.core.frame.DataFrame'>\n",
      "RangeIndex: 27368 entries, 0 to 27367\n",
      "Data columns (total 14 columns):\n",
      "index                   27368 non-null int64\n",
      "fecha_reserva           27368 non-null object\n",
      "pais_cliente            27333 non-null object\n",
      "importe_reserva         27368 non-null float64\n",
      "roomnigths              27368 non-null int64\n",
      "check-in                27368 non-null object\n",
      "check-out               27368 non-null object\n",
      "is_reserva_cancelada    27368 non-null int64\n",
      "total_habitaciones      27368 non-null int64\n",
      "hotel                   27368 non-null object\n",
      "localizador             27368 non-null object\n",
      "nombre_cliente          27368 non-null object\n",
      "telefono_cliente        27368 non-null object\n",
      "email_cliente           27368 non-null object\n",
      "dtypes: float64(1), int64(4), object(9)\n",
      "memory usage: 2.9+ MB\n"
     ]
    }
   ],
   "source": [
    "ori.info()"
   ]
  },
  {
   "cell_type": "code",
   "execution_count": null,
   "metadata": {},
   "outputs": [],
   "source": []
  }
 ],
 "metadata": {
  "kernelspec": {
   "display_name": "Python 3",
   "language": "python",
   "name": "python3"
  },
  "language_info": {
   "codemirror_mode": {
    "name": "ipython",
    "version": 3
   },
   "file_extension": ".py",
   "mimetype": "text/x-python",
   "name": "python",
   "nbconvert_exporter": "python",
   "pygments_lexer": "ipython3",
   "version": "3.6.3"
  }
 },
 "nbformat": 4,
 "nbformat_minor": 2
}

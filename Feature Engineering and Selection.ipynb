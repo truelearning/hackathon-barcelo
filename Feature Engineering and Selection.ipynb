{
 "cells": [
  {
   "cell_type": "markdown",
   "metadata": {},
   "source": [
    "# Feature engineering & selection"
   ]
  },
  {
   "cell_type": "code",
   "execution_count": null,
   "metadata": {},
   "outputs": [],
   "source": [
    "import pandas as pd\n",
    "TRAINING_SET_FILE = 'data/training_set.csv'\n",
    "\n",
    "df = pd.read_csv(TRAINING_SET_FILE, sep=';')\n",
    "df.T"
   ]
  },
  {
   "cell_type": "code",
   "execution_count": null,
   "metadata": {
    "collapsed": true
   },
   "outputs": [],
   "source": [
    "mean_country_cancelations = df.groupby(by='pais_cliente')['is_reserva_cancelada'].sum() / df.groupby(by='pais_cliente')['is_reserva_cancelada'].count()\n",
    "\n",
    "mean_country_cancelations = pd.DataFrame(mean_country_cancelations).rename(columns={'is_reserva_cancelada': 'pct_cancelacion_pais'})\n",
    "mean_country_cancelations.reset_index(level=0, inplace=True)\n",
    "\n",
    "pct_cancelacion_num_habit = df.groupby('total_habitaciones')['is_reserva_cancelada'].sum() / df.groupby('total_habitaciones')['index'].count()\n",
    "pct_cancelacion_num_habit = pct_cancelacion_num_habit.reset_index().rename(columns={0: 'pct_cancelacion_num_habit'})\n",
    "\n",
    "def create_extra_features(df):\n",
    "    # convertimos a datetimes\n",
    "    date_columns = ['fecha_reserva', 'check-in', 'check-out']\n",
    "    for d in date_columns:\n",
    "        df[d] = pd.to_datetime(df[d])\n",
    "\n",
    "    df['reservation_days_ago'] = (df['check-in'] - df['fecha_reserva']).dt.days\n",
    "    df['total_noches'] = (df['check-out'] - df['check-in']).dt.days\n",
    "    df['precio_por_noche'] = df['importe_reserva'] / df['roomnigths']\n",
    "        \n",
    "    df['fecha_reserva_weekday'] = df.fecha_reserva.dt.weekday\n",
    "    df['fecha_reserva_day'] = df.fecha_reserva.dt.day\n",
    "\n",
    "    df['checkin_weekday'] = df['check-in'].dt.weekday\n",
    "    df['checkin_month'] = df['check-in'].dt.month\n",
    "    df['checkin_day'] = df['check-in'].dt.day\n",
    "\n",
    "    df['checkout_weekday'] = df['check-out'].dt.weekday\n",
    "    df['checkout_month'] = df['check-out'].dt.month\n",
    "    df['checkout_day'] = df['check-in'].dt.day\n",
    "\n",
    "    df = df.merge(mean_country_cancelations, left_on='pais_cliente', right_on='pais_cliente', how='left').fillna(0.0)    \n",
    "    df = df.merge(pct_cancelacion_num_habit, left_on='total_habitaciones', right_on='total_habitaciones', how='left').fillna(0.0)\n",
    "    \n",
    "    return df\n",
    "\n",
    "df = create_extra_features(df)"
   ]
  },
  {
   "cell_type": "code",
   "execution_count": null,
   "metadata": {
    "collapsed": true
   },
   "outputs": [],
   "source": [
    "def remove_non_usefull_features(df):\n",
    "    df_cont = df\n",
    "\n",
    "    # remove categorical variables after extracting other vars\n",
    "    for categorical_column in ['pais_cliente', 'hotel', 'localizador', 'nombre_cliente', 'telefono_cliente', 'email_cliente']:\n",
    "        df_cont = df_cont.drop(categorical_column, 1)\n",
    "\n",
    "    for date_column in ['fecha_reserva', 'check-in', 'check-out']:\n",
    "        df_cont = df_cont.drop(date_column, 1)\n",
    "    return df_cont\n",
    "        \n",
    "df_cont = remove_non_usefull_features(df)"
   ]
  },
  {
   "cell_type": "markdown",
   "metadata": {},
   "source": [
    "# Feature selection\n",
    "\n",
    "De todas las características que hemos construido, vamos a evaluar como funcionan."
   ]
  },
  {
   "cell_type": "code",
   "execution_count": null,
   "metadata": {},
   "outputs": [],
   "source": [
    "y_train = df_cont['is_reserva_cancelada']\n",
    "X_train = df_cont.drop('is_reserva_cancelada', axis=1)"
   ]
  },
  {
   "cell_type": "markdown",
   "metadata": {},
   "source": [
    "# Construct classifier"
   ]
  },
  {
   "cell_type": "code",
   "execution_count": null,
   "metadata": {},
   "outputs": [],
   "source": [
    "from xgboost import XGBClassifier\n",
    "from sklearn import metrics\n",
    "from sklearn.model_selection import train_test_split\n",
    "from sklearn.metrics import accuracy_score\n",
    "import matplotlib.pyplot as plt\n",
    "\n",
    "clf = XGBClassifier(n_estimators=500)\n",
    "\n",
    "X_train_train, X_train_test, y_train_train, y_train_test = train_test_split(\n",
    "    X_train, y_train, test_size=0.33, random_state=42\n",
    ")\n",
    "\n",
    "clf.fit(X_train_train, y_train_train)\n",
    "pred = [x[1] for x in clf.predict_proba(X_train_test)]\n",
    "\n",
    "fpr, tpr, thresholds = metrics.roc_curve(y_train_test, pred)"
   ]
  },
  {
   "cell_type": "code",
   "execution_count": null,
   "metadata": {},
   "outputs": [],
   "source": [
    "print('AUC', metrics.auc(fpr, tpr))\n",
    "print(\"Accuracy\", metrics.accuracy_score(y_train_test, [1 if y > 0.5 else 0 for y in pred]))\n",
    "plt.plot(fpr,tpr)\n",
    "plt.show()"
   ]
  },
  {
   "cell_type": "code",
   "execution_count": null,
   "metadata": {},
   "outputs": [],
   "source": [
    "clf = XGBClassifier(n_estimators=500)\n",
    "clf.fit(X_train, y_train)\n",
    "\n",
    "X_test = pd.read_csv('data/test_set.csv', sep=';')\n",
    "\n",
    "print(X_test.shape)\n",
    "X_test = create_extra_features(X_test)\n",
    "X_test = remove_non_usefull_features(X_test)\n",
    "print(X_test.shape)\n",
    "\n",
    "clf.fit(X_train, y_train)\n",
    "y_pred = list(map(lambda x:x[1], clf.predict_proba(X_test)))\n",
    "\n",
    "X_test['probabilidad'] = y_pred\n",
    "X_test[['index', 'probabilidad']].to_csv('tpiza_eval.csv', index=False, sep=',')\n"
   ]
  }
 ],
 "metadata": {
  "kernelspec": {
   "display_name": "Python 3",
   "language": "python",
   "name": "python3"
  },
  "language_info": {
   "codemirror_mode": {
    "name": "ipython",
    "version": 3
   },
   "file_extension": ".py",
   "mimetype": "text/x-python",
   "name": "python",
   "nbconvert_exporter": "python",
   "pygments_lexer": "ipython3",
   "version": "3.6.2"
  }
 },
 "nbformat": 4,
 "nbformat_minor": 2
}
